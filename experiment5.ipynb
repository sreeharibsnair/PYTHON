{
 "cells": [
  {
   "cell_type": "code",
   "execution_count": 3,
   "id": "5c63cc22-80ab-4df6-87c7-d7a09ae3ed1f",
   "metadata": {},
   "outputs": [
    {
     "name": "stdin",
     "output_type": "stream",
     "text": [
      "Enter colors:  red,blue,green\n"
     ]
    },
    {
     "name": "stdout",
     "output_type": "stream",
     "text": [
      "First colour: red\n",
      "Last colour: green\n"
     ]
    }
   ],
   "source": [
    "#create a list of colours from comma seperated colour  names entered by user .Display first and last colour\n",
    "colors=input(\"Enter colors: \").split(',')\n",
    "print(\"First colour:\",colors[0])\n",
    "print(\"Last colour:\",colors[-1])"
   ]
  },
  {
   "cell_type": "code",
   "execution_count": 5,
   "id": "89c524fc-c403-468d-8b44-04c5b9bbd1ad",
   "metadata": {},
   "outputs": [
    {
     "name": "stdin",
     "output_type": "stream",
     "text": [
      "Enter filename:  python.py\n"
     ]
    },
    {
     "name": "stdout",
     "output_type": "stream",
     "text": [
      "Extension: py\n"
     ]
    }
   ],
   "source": [
    "#write  python program to accept a filename from the user,print etension of that \n",
    "f=input(\"Enter filename: \")\n",
    "ext=f.split('.')[-1]\n",
    "print(\"Extension:\",ext)"
   ]
  },
  {
   "cell_type": "code",
   "execution_count": 6,
   "id": "48c3f6f1-2635-4ead-abe5-ba49b4f1e8eb",
   "metadata": {},
   "outputs": [
    {
     "name": "stdin",
     "output_type": "stream",
     "text": [
      "Enter numbers:  4,7,9,5,7\n"
     ]
    },
    {
     "name": "stdout",
     "output_type": "stream",
     "text": [
      "Sum: 32\n"
     ]
    }
   ],
   "source": [
    "#write a python progrm which accepts a sequence of comma seperated numbers from user and generate a lis with those numbers and find sum of all items in that list\n",
    "n=input(\"Enter numbers: \").split(',')\n",
    "print(\"Sum:\",sum(map(int,n)))"
   ]
  },
  {
   "cell_type": "code",
   "execution_count": null,
   "id": "1a86c9a4-52e7-4482-b199-0975f82fb012",
   "metadata": {},
   "outputs": [],
   "source": []
  }
 ],
 "metadata": {
  "kernelspec": {
   "display_name": "Python 3 (ipykernel)",
   "language": "python",
   "name": "python3"
  },
  "language_info": {
   "codemirror_mode": {
    "name": "ipython",
    "version": 3
   },
   "file_extension": ".py",
   "mimetype": "text/x-python",
   "name": "python",
   "nbconvert_exporter": "python",
   "pygments_lexer": "ipython3",
   "version": "3.10.12"
  }
 },
 "nbformat": 4,
 "nbformat_minor": 5
}

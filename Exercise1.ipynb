{
 "cells": [
  {
   "cell_type": "code",
   "execution_count": 2,
   "id": "705a4be0-03e3-4339-a540-2460c5c1a043",
   "metadata": {},
   "outputs": [
    {
     "name": "stdout",
     "output_type": "stream",
     "text": [
      "4.0\n"
     ]
    }
   ],
   "source": [
    "#import math\n",
    "number= 16\n",
    "result=math.sqrt(number)\n",
    "print(result)"
   ]
  },
  {
   "cell_type": "code",
   "execution_count": 3,
   "id": "4f30d027-0c40-4360-9738-ec2cea1916d3",
   "metadata": {},
   "outputs": [
    {
     "name": "stdout",
     "output_type": "stream",
     "text": [
      "5\n",
      "4\n"
     ]
    }
   ],
   "source": [
    "#import math\n",
    "num=4.7\n",
    "print(math.ceil(num))\n",
    "print(math.floor(num))"
   ]
  },
  {
   "cell_type": "code",
   "execution_count": 1,
   "id": "d486ec16-4081-401f-8211-b042e4809cfb",
   "metadata": {},
   "outputs": [
    {
     "name": "stdin",
     "output_type": "stream",
     "text": [
      "Enter side:  4\n"
     ]
    },
    {
     "name": "stdout",
     "output_type": "stream",
     "text": [
      "Area = 16.0\n"
     ]
    }
   ],
   "source": [
    "#area of a square\n",
    "print(\"Area =\", (lambda s: s*s)(float(input(\"Enter side: \"))))"
   ]
  },
  {
   "cell_type": "code",
   "execution_count": 5,
   "id": "05e39c95-60ec-4e5c-9c73-3a03b228bbc4",
   "metadata": {},
   "outputs": [
    {
     "name": "stdin",
     "output_type": "stream",
     "text": [
      "Base:  5\n",
      "Height:  7\n"
     ]
    },
    {
     "name": "stdout",
     "output_type": "stream",
     "text": [
      "Area = 17.5\n"
     ]
    }
   ],
   "source": [
    "#area of right angled triangle\n",
    "print(\"Area =\", 0.5*float(input(\"Base: \"))*float(input(\"Height: \")))"
   ]
  },
  {
   "cell_type": "code",
   "execution_count": 6,
   "id": "33372f29-a807-4475-993d-cec846a1d6e3",
   "metadata": {},
   "outputs": [
    {
     "name": "stdin",
     "output_type": "stream",
     "text": [
      "Name: Sreehari\n"
     ]
    },
    {
     "name": "stdout",
     "output_type": "stream",
     "text": [
      "Hello, Sreehari!\n"
     ]
    }
   ],
   "source": [
    "#say hello\n",
    "print(\"Hello,\", input(\"Name:\")+\"!\")"
   ]
  },
  {
   "cell_type": "code",
   "execution_count": 7,
   "id": "ffcbc47a-5d02-492b-bb0c-842684b39722",
   "metadata": {},
   "outputs": [
    {
     "name": "stdin",
     "output_type": "stream",
     "text": [
      "Number:  6\n"
     ]
    },
    {
     "name": "stdout",
     "output_type": "stream",
     "text": [
      "Previous: 5 Next: 7\n"
     ]
    }
   ],
   "source": [
    "#previous and next\n",
    "n=int(input(\"Number: \"));print(\"Previous:\",n-1,\"Next:\",n+1)"
   ]
  },
  {
   "cell_type": "code",
   "execution_count": 8,
   "id": "bd61631c-1fd4-49d3-b4b6-5b8d415d605d",
   "metadata": {},
   "outputs": [
    {
     "name": "stdin",
     "output_type": "stream",
     "text": [
      "P R T:  3 6 8\n"
     ]
    },
    {
     "name": "stdout",
     "output_type": "stream",
     "text": [
      "SI= 1.44\n"
     ]
    }
   ],
   "source": [
    "#prt\n",
    "p,r,t=map(float,input(\"P R T: \").split());print(\"SI=\",p*r*t/100)"
   ]
  },
  {
   "cell_type": "code",
   "execution_count": null,
   "id": "08d348fd-e20b-4f3a-b55c-9979d696a15a",
   "metadata": {},
   "outputs": [],
   "source": []
  }
 ],
 "metadata": {
  "kernelspec": {
   "display_name": "Python 3 (ipykernel)",
   "language": "python",
   "name": "python3"
  },
  "language_info": {
   "codemirror_mode": {
    "name": "ipython",
    "version": 3
   },
   "file_extension": ".py",
   "mimetype": "text/x-python",
   "name": "python",
   "nbconvert_exporter": "python",
   "pygments_lexer": "ipython3",
   "version": "3.10.12"

  }
 },
 "nbformat": 4,
 "nbformat_minor": 5
}

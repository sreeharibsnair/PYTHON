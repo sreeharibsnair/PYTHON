{
 "cells": [
  {
   "cell_type": "code",
   "execution_count": 13,
   "id": "127afdeb",
   "metadata": {},
   "outputs": [
    {
     "name": "stdout",
     "output_type": "stream",
     "text": [
      "enter 1 list integers: 1,2,3,4\n",
      "enter 2 list integers: 5,6,7,4\n",
      "first list= [1, 2, 3, 4]\n",
      "second list= [5, 6, 7, 4]\n",
      "2 lists have same length\n",
      "2 lists do not have same sum\n",
      "Common values in both lists: {4}\n"
     ]
    }
   ],
   "source": [
    "#Enter 2 lists of integers. Check (a) Whether list are of same length (b) whether list sumsto same value (c) whether any value occur in both.\n",
    "\n",
    "a=list(map(int, input(\"enter 1 list integers: \").split(',')))\n",
    "b=list(map(int, input(\"enter 2 list integers: \").split(',')))\n",
    "print(\"first list=\",a)\n",
    "print(\"second list=\",b)\n",
    "if len(a)==len(b):\n",
    "    print(\"2 lists have same length\")\n",
    "else:\n",
    "    print(\"2 lists do not have same length\")\n",
    "if sum(a)==sum(b):\n",
    "    print(\"2 lists have same sum\")\n",
    "else:\n",
    "    print(\"2 lists do not have same sum\")\n",
    "if set(a).intersection(set(b)):\n",
    "    print(\"Common values in both lists:\", set(a).intersection(set(b)))\n",
    "else:\n",
    "    print(\"No common values in both lists\")"
   ]
  },
  {
   "cell_type": "code",
   "execution_count": 8,
   "id": "4202033d",
   "metadata": {},
   "outputs": [
    {
     "name": "stdout",
     "output_type": "stream",
     "text": [
      "Enter a string: runing\n",
      "Result: runingly\n"
     ]
    }
   ],
   "source": [
    "#Add ‘ing’ at the end of a given string. If it already ends with ‘ing’, then add ‘ly’\n",
    "s=input(\"Enter a string: \")\n",
    "if s[-3:]==\"ing\":\n",
    " s+=\"ly\"\n",
    "else:s+=\"ing\"\n",
    "print(\"Result:\",s)"
   ]
  }
 ],
 "metadata": {
  "kernelspec": {
   "display_name": "Python 3 (ipykernel)",
   "language": "python",
   "name": "python3"
  },
  "language_info": {
   "codemirror_mode": {
    "name": "ipython",
    "version": 3
   },
   "file_extension": ".py",
   "mimetype": "text/x-python",
   "name": "python",
   "nbconvert_exporter": "python",
   "pygments_lexer": "ipython3",
   "version": "3.11.4"
  }
 },
 "nbformat": 4,
 "nbformat_minor": 5
}

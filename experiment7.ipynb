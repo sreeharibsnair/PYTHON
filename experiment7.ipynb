{
 "cells": [
  {
   "cell_type": "code",
   "execution_count": 4,
   "id": "cb2092e5",
   "metadata": {},
   "outputs": [
    {
     "name": "stdout",
     "output_type": "stream",
     "text": [
      "Even numbers: [2, 4, 6, 8, 10, 12, 14, 16, 18, 20, 22, 24]\n",
      "Sum = 156\n"
     ]
    }
   ],
   "source": [
    "#write a python program to print all even numbers from 1 to 25 and calculate the sum.(using the range()function directly without a loop or conditions)\n",
    "print(\"Even numbers:\",list(range(2,26,2)))\n",
    "print(\"Sum =\",sum(range(2,26,2)))"
   ]
  },
  {
   "cell_type": "code",
   "execution_count": 6,
   "id": "e2b74fd3",
   "metadata": {},
   "outputs": [
    {
     "name": "stdout",
     "output_type": "stream",
     "text": [
      "Enter the numbers: 2 3 5 7 9 3\n",
      "Reversed = 3 9 7 5 3 2\n",
      "sum = 29\n"
     ]
    }
   ],
   "source": [
    "#write a python program to print all in reverse order and calculate their sum\n",
    "nums=list(map(int, input(\"Enter the numbers: \").split()))\n",
    "print(\"Reversed =\",*reversed(nums))\n",
    "print(\"sum =\",sum(nums))"
   ]
  },
  {
   "cell_type": "code",
   "execution_count": null,
   "id": "1928e486",
   "metadata": {},
   "outputs": [],
   "source": []
  }
 ],
 "metadata": {
  "kernelspec": {
   "display_name": "Python 3 (ipykernel)",
   "language": "python",
   "name": "python3"
  },
  "language_info": {
   "codemirror_mode": {
    "name": "ipython",
    "version": 3
   },
   "file_extension": ".py",
   "mimetype": "text/x-python",
   "name": "python",
   "nbconvert_exporter": "python",
   "pygments_lexer": "ipython3",
   "version": "3.11.4"
  }
 },
 "nbformat": 4,
 "nbformat_minor": 5
}

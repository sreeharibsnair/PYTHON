{
 "cells": [
  {
   "cell_type": "code",
   "execution_count": 4,
   "id": "0a9f1eb1",
   "metadata": {},
   "outputs": [
    {
     "name": "stdout",
     "output_type": "stream",
     "text": [
      "Even numbers: [2, 4, 6, 8, 10, 12, 14, 16, 18, 20, 22, 24]\n",
      "Sum = 156\n"
     ]
    }
   ],
   "source": [
    "#write a python program to print all even numbers from 1 to 25 and calculate the sum.(using the range()function directly without a loop or conditions)\n",
    "print(\"Even numbers:\",list(range(2,26,2)))\n",
    "print(\"Sum =\",sum(range(2,26,2)))"
   ]
  },
  {
   "cell_type": "code",
   "execution_count": 11,
   "id": "fad0a467",
   "metadata": {},
   "outputs": [
    {
     "name": "stdout",
     "output_type": "stream",
     "text": [
      "Enter the range: 10\n",
      "The reverse order is: [10, 9, 8, 7, 6, 5, 4, 3, 2, 1]\n",
      "Sum of reversed order: 55\n"
     ]
    }
   ],
   "source": [
    "#write a python program to print all in reverse order and calculate their sum\n",
    "rev=int(input(\"Enter the range: \"))\n",
    "print(\"The reverse order is:\",list(range(rev,0,-1)))\n",
    "print(\"Sum of reversed order:\",sum(range(rev,0,-1)))"
   ]
  }
 ],
 "metadata": {
  "kernelspec": {
   "display_name": "Python 3 (ipykernel)",
   "language": "python",
   "name": "python3"
  },
  "language_info": {
   "codemirror_mode": {
    "name": "ipython",
    "version": 3
   },
   "file_extension": ".py",
   "mimetype": "text/x-python",
   "name": "python",
   "nbconvert_exporter": "python",
   "pygments_lexer": "ipython3",
   "version": "3.11.4"
  }
 },
 "nbformat": 4,
 "nbformat_minor": 5
}

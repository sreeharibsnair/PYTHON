{
 "cells": [
  {
   "cell_type": "code",
   "execution_count": 5,
   "id": "be11d986",
   "metadata": {},
   "outputs": [
    {
     "name": "stdout",
     "output_type": "stream",
     "text": [
      "Enter numbers: 2 4 6 7 5 3 5 7\n",
      "Third element and the third element from the last: 6 3\n"
     ]
    }
   ],
   "source": [
    "#write a python program to gett the third element and third element from last of a tuple\n",
    "t=tuple(map(int,input(\"Enter numbers: \").split()))\n",
    "print(\"Third element and the third element from the last:\",t[2 ], t[-3])"
   ]
  },
  {
   "cell_type": "code",
   "execution_count": 9,
   "id": "755950e3",
   "metadata": {},
   "outputs": [
    {
     "name": "stdout",
     "output_type": "stream",
     "text": [
      "Enter comma-separated numbers: 2,4,7,9,5,3,7,9\n",
      "Tuple: (2.0, 4.0, 7.0, 9.0, 5.0, 3.0, 7.0, 9.0)\n",
      "Average: 5.75\n"
     ]
    }
   ],
   "source": [
    "#write a python programs which accepts a sequence of comma seperated numbers from user and generate a tuple with those numbers and find average of all items in that tuple\n",
    "n=tuple(map(float,input(\"Enter comma-separated numbers: \").split(',')))\n",
    "print(\"Tuple:\",n)\n",
    "print(\"Average:\",sum(n)/len(n))"
   ]
  },
  {
   "cell_type": "code",
   "execution_count": null,
   "id": "7df5e233",
   "metadata": {},
   "outputs": [],
   "source": []
  }
 ],
 "metadata": {
  "kernelspec": {
   "display_name": "Python 3 (ipykernel)",
   "language": "python",
   "name": "python3"
  },
  "language_info": {
   "codemirror_mode": {
    "name": "ipython",
    "version": 3
   },
   "file_extension": ".py",
   "mimetype": "text/x-python",
   "name": "python",
   "nbconvert_exporter": "python",
   "pygments_lexer": "ipython3",
   "version": "3.11.4"
  }
 },
 "nbformat": 4,
 "nbformat_minor": 5
}

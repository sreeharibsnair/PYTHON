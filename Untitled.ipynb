
{
 "cells": [
  {
   "cell_type": "code",
   "execution_count": 1,
   "id": "13a3b178",
   "metadata": {},
   "outputs": [
    {
     "name": "stdout",
     "output_type": "stream",
     "text": [
      "Good morning\n"
     ]
    }
   ],
   "source": [
    "print(\"Good morning\")"
   ]
  },
  {
   "cell_type": "code",
   "execution_count": 4,
   "id": "c26a2a4e",
   "metadata": {},
   "outputs": [
    {
     "name": "stdout",
     "output_type": "stream",
     "text": [
      "SREEHARI\n",
      " ERATTANCHALIL\n",
      " EARIMALA\n",
      " NAYARKUZHI PO\n",
      " NITC VIA\n",
      " KOZHIKODE\n",
      "\n"
     ]
    }
   ],
   "source": [
    "print(\"SREEHARI\\n\",\"ERATTANCHALIL\\n\",\"EARIMALA\\n\",\"NAYARKUZHI PO\\n\",\"NITC VIA\\n\",\"KOZHIKODE\\n\")"
   ]
  },
  {
   "cell_type": "code",
   "execution_count": 5,
   "id": "62bfe7af",
   "metadata": {},
   "outputs": [
    {
     "name": "stdout",
     "output_type": "stream",
     "text": [
      "2\n"
     ]
    }
   ],
   "source": [
    "print(5//2)"
   ]
  },
  {
   "cell_type": "code",
   "execution_count": 6,
   "id": "a3f92bbe",
   "metadata": {},
   "outputs": [
    {
     "name": "stdout",
     "output_type": "stream",
     "text": [
      "2.5\n"
     ]
    }
   ],
   "source": [
    "print(5/2)"
   ]
  },
  {
   "cell_type": "code",
   "execution_count": 7,
   "id": "2846161b",
   "metadata": {},
   "outputs": [
    {
     "name": "stdout",
     "output_type": "stream",
     "text": [
      "8\n"
     ]
    }
   ],
   "source": [
    "print(2**3)"
   ]
  },
  {
   "cell_type": "code",
   "execution_count": 25,
   "id": "5670c6ea",
   "metadata": {},
   "outputs": [
    {
     "name": "stdout",
     "output_type": "stream",
     "text": [
      "VRINDHA\n"
     ]
    }
   ],
   "source": [
    "print(\"ARJUN\")"
   ]
  },
  {
   "cell_type": "code",
   "execution_count": 11,
   "id": "9246f2bc",
   "metadata": {},
   "outputs": [
    {
     "name": "stdout",
     "output_type": "stream",
     "text": [
      "MCA \"STUDENTS\"\n"
     ]
    }
   ],
   "source": [
    "print('MCA \"STUDENTS\"')"
   ]
  },
  {
   "cell_type": "code",
   "execution_count": 14,
   "id": "7c7d7c13",
   "metadata": {},
   "outputs": [
    {
     "name": "stdout",
     "output_type": "stream",
     "text": [
      "ARJUN\n"
     ]
    }
   ],
   "source": [
    "n=\"ARJUN\"\n",
    "print(n)"
   ]
  },
  {
   "cell_type": "code",
   "execution_count": 15,
   "id": "902f9cf4",
   "metadata": {},
   "outputs": [
    {
     "name": "stdout",
     "output_type": "stream",
     "text": [
      "name= ARJUN\n"
     ]
    }
   ],
   "source": [
    "n=\"ARJUN\"\n",
    "print(\"name=\",n)"
   ]
  },
  {
   "cell_type": "code",
   "execution_count": 16,
   "id": "0501464c",
   "metadata": {},
   "outputs": [
    {
     "name": "stdout",
     "output_type": "stream",
     "text": [
      "name= AR\n"
     ]
    }
   ],
   "source": [
    "n=\"ARJUN\"\n",
    "print(\"name=\",n[0:2])"
   ]
  },
  {
   "cell_type": "code",
   "execution_count": 23,
   "id": "369c4e06",
   "metadata": {},
   "outputs": [
    {
     "name": "stdout",
     "output_type": "stream",
     "text": [
      "name= J\n"
     ]
    }
   ],
   "source": [
    "n=\"ARJUN\"\n",
    "print(\"name=\",n[2:3:4])"
   ]
  },
  {
   "cell_type": "code",
   "execution_count": 24,
   "id": "8a4f8b95",
   "metadata": {},
   "outputs": [
    {
     "name": "stdout",
     "output_type": "stream",
     "text": [
      "name= JU\n"
     ]
    }
   ],
   "source": [
    "n=\"ARJUN\"\n",
    "print(\"name=\",n[2:4])"
   ]
  },
  {
   "cell_type": "code",
   "execution_count": null,
   "id": "a4b94d10",
   "metadata": {},
   "outputs": [],
   "source": []
  }
 ],
 "metadata": {
  "kernelspec": {
   "display_name": "Python 3 (ipykernel)",
   "language": "python",
   "name": "python3"
  },
  "language_info": {
   "codemirror_mode": {
    "name": "ipython",
    "version": 3
   },
   "file_extension": ".py",
   "mimetype": "text/x-python",
   "name": "python",
   "nbconvert_exporter": "python",
   "pygments_lexer": "ipython3",
   "version": "3.10.12"
  }
 },
 "nbformat": 4,
 "nbformat_minor": 5
}

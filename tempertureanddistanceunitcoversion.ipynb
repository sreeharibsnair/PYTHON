{
 "cells": [
  {
   "cell_type": "code",
   "execution_count": 4,
   "id": "6f2e51ba",
   "metadata": {},
   "outputs": [
    {
     "name": "stdout",
     "output_type": "stream",
     "text": [
      "°C: 34\n",
      "34.0°C = 93.2°F\n"
     ]
    }
   ],
   "source": [
    "#Python program to convert celcius to fahreinheit\n",
    "c=float(input(\"°C: \"));print(f\"{c}°C = {c*9/5+32}°F\")"
   ]
  },
  {
   "cell_type": "code",
   "execution_count": 7,
   "id": "a9cdda7f",
   "metadata": {},
   "outputs": [
    {
     "name": "stdout",
     "output_type": "stream",
     "text": [
      "km: 12\n",
      "12.0 km = 7.46 miles\n"
     ]
    }
   ],
   "source": [
    "#python program to convert kilometers to miles..Make the value rounded\n",
    "km=float(input(\"km: \"));print(f\"{km} km = {round(km*0.621371,2)} miles\")"
   ]
  }
 ],
 "metadata": {
  "kernelspec": {
   "display_name": "Python 3 (ipykernel)",
   "language": "python",
   "name": "python3"
  },
  "language_info": {
   "codemirror_mode": {
    "name": "ipython",
    "version": 3
   },
   "file_extension": ".py",
   "mimetype": "text/x-python",
   "name": "python",
   "nbconvert_exporter": "python",
   "pygments_lexer": "ipython3",
   "version": "3.10.12"
  }
 },
 "nbformat": 4,
 "nbformat_minor": 5
}

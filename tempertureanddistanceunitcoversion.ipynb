{
 "cells": [
  {
   "cell_type": "code",
   "execution_count": 4,
   "id": "c7b4782c",
   "metadata": {},
   "outputs": [
    {
     "name": "stdout",
     "output_type": "stream",
     "text": [
      "°C: 34\n",
      "34.0°C = 93.2°F\n"
     ]
    }
   ],
   "source": [
    "#Python program to convert celcius to fahreinheit\n",
    "c=float(input(\"°C: \"));print(f\"{c}°C = {c*9/5+32}°F\")"
   ]
  },
  {
   "cell_type": "code",
   "execution_count": 6,
   "id": "a283ef65",
   "metadata": {},
   "outputs": [
    {
     "name": "stdout",
     "output_type": "stream",
     "text": [
      "km: 12\n",
      "12.0km =7.4564520000000005 miles\n"
     ]
    }
   ],
   "source": [
    "#python program to convert kilometers to miles\n",
    "\n",
    "km=float(input(\"km: \"));print(f\"{km}km ={km*0.621371} miles\")\n",
    "\n"
   ]
  },
  {
   "cell_type": "code",
   "execution_count": null,
   "id": "3bbd9022",
   "metadata": {},
   "outputs": [],
   "source": []
  }
 ],
 "metadata": {
  "kernelspec": {
   "display_name": "Python 3 (ipykernel)",
   "language": "python",
   "name": "python3"
  },
  "language_info": {
   "codemirror_mode": {
    "name": "ipython",
    "version": 3
   },
   "file_extension": ".py",
   "mimetype": "text/x-python",
   "name": "python",
   "nbconvert_exporter": "python",
   "pygments_lexer": "ipython3",
   "version": "3.11.4"
  }
 },
 "nbformat": 4,
 "nbformat_minor": 5
}

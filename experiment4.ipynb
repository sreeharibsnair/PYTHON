{
 "cells": [
  {
   "cell_type": "code",
   "execution_count": 3,
   "id": "99fa399c",
   "metadata": {},
   "outputs": [
    {
     "name": "stdin",
     "output_type": "stream",
     "text": [
      "Enter a word:  program\n"
     ]
    },
    {
     "name": "stdout",
     "output_type": "stream",
     "text": [
      "exchanged string: mrograp\n"
     ]
    }
   ],
   "source": [
    "#write a short python program to change a given string to a new string where the first and last chars have been exchanged [eg:python->nythop]\n",
    "s=input(\"Enter a word: \")\n",
    "s=s[-1]+s[1:-1]+s[0]\n",
    "print(\"exchanged string:\",s)"
   ]
  },
  {
   "cell_type": "code",
   "execution_count": 2,
   "id": "1ec038f0",
   "metadata": {},
   "outputs": [
    {
     "name": "stdin",
     "output_type": "stream",
     "text": [
      "Enter a word:  PROGRAM\n"
     ]
    },
    {
     "name": "stdout",
     "output_type": "stream",
     "text": [
      "New string=PRAM\n"
     ]
    }
   ],
   "source": [
    "#write a python program to get a string made of the fisrt 2 and last 2 chars from a given string\n",
    "a=input(\"Enter a word: \")\n",
    "b=a[0:2]\n",
    "c=a[-2:]\n",
    "print(f\"New string={b+c}\")"
   ]
  },
  {
   "cell_type": "code",
   "execution_count": 15,
   "id": "e41681e9",
   "metadata": {},
   "outputs": [
    {
     "name": "stdout",
     "output_type": "stream",
     "text": [
      "First: apple\n",
      "Second: mango\n",
      "Output =  maple apngo\n"
     ]
    }
   ],
   "source": [
    "#write apython program to get a single string from two given strings,seperated by a space and swap the first two characters of each string\n",
    "a,b=input(\"First: \"),input(\"Second: \")\n",
    "print(\"Output = \",b[:2]+a[2:],a[:2]+b[2:])"
   ]
  },
  {
   "cell_type": "code",
   "execution_count": 2,
   "id": "dac6fa46",
   "metadata": {},
   "outputs": [
    {
     "name": "stdin",
     "output_type": "stream",
     "text": [
      "Enter a word:  malayalam\n"
     ]
    },
    {
     "name": "stdout",
     "output_type": "stream",
     "text": [
      "output:  malayala$\n"
     ]
    }
   ],
   "source": [
    "#Write a python program to get a string from a given string where all occurences of its first char have been changed to $,except the first char itself. (use replace()) [example:onion->oni$n]\n",
    "s=input(\"Enter a word: \")\n",
    "s=s[0]+s[1:] .replace(s[0], \"$\")\n",
    "print(\"output: \",s)"
   ]
  },
  {
   "cell_type": "code",
   "execution_count": null,
   "id": "2beb374e-1314-4116-acda-d59f7db33210",
   "metadata": {},
   "outputs": [],
   "source": []
  }
 ],
 "metadata": {
  "kernelspec": {
   "display_name": "Python 3 (ipykernel)",
   "language": "python",
   "name": "python3"
  },
  "language_info": {
   "codemirror_mode": {
    "name": "ipython",
    "version": 3
   },
   "file_extension": ".py",
   "mimetype": "text/x-python",
   "name": "python",
   "nbconvert_exporter": "python",
   "pygments_lexer": "ipython3",
   "version": "3.10.12"
  }
 },
 "nbformat": 4,
 "nbformat_minor": 5
}

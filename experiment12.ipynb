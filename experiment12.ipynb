{
 "cells": [
  {
   "cell_type": "code",
   "execution_count": 2,
   "id": "f3fa362d",
   "metadata": {},
   "outputs": [],
   "source": [
    "#LIST COMPREHENSIONS"
   ]
  },
  {
   "cell_type": "code",
   "execution_count": 12,
   "id": "8541fbe1",
   "metadata": {},
   "outputs": [
    {
     "name": "stdout",
     "output_type": "stream",
     "text": [
      "Enter the numbers: -3 5 0 -1 7 8 -2\n",
      "The positive numbers are [5, 7, 8]\n"
     ]
    }
   ],
   "source": [
    "#(a) Generate positive list of numbers from a given list of integers\n",
    "number=list(map(int,input(\"Enter the numbers: \").split()))\n",
    "positive=[num for num in number if num>0]\n",
    "print(\"The positive numbers are\",positive)"
   ]
  },
  {
   "cell_type": "code",
   "execution_count": 3,
   "id": "b4be4dcd",
   "metadata": {},
   "outputs": [
    {
     "name": "stdout",
     "output_type": "stream",
     "text": [
      "Enter the value of N: 5\n",
      "Squares of N numbers: [0, 1, 4, 9, 16]\n"
     ]
    }
   ],
   "source": [
    "#(b) Square of N numbers \n",
    "N=int(input(\"Enter the value of N: \"))\n",
    "squares=[x**2 for x in range(N)]\n",
    "print(\"Squares of N numbers:\",squares)"
   ]
  },
  {
   "cell_type": "code",
   "execution_count": 4,
   "id": "afdde7b2",
   "metadata": {},
   "outputs": [
    {
     "name": "stdout",
     "output_type": "stream",
     "text": [
      "Enter a word: sreehari\n",
      "Vowels in word: ['e', 'e', 'a', 'i']\n"
     ]
    }
   ],
   "source": [
    "#(c) Form a list of vowels selected from a given word\n",
    "word=input(\"Enter a word: \")\n",
    "vowels=[ch for ch in word if ch.lower() in 'aeiou']\n",
    "print(\"Vowels in word:\",vowels)"
   ]
  },
  {
   "cell_type": "code",
   "execution_count": 5,
   "id": "05d0ff94",
   "metadata": {},
   "outputs": [
    {
     "name": "stdout",
     "output_type": "stream",
     "text": [
      "Enter a word: Sreehari\n",
      "Ordinal values = [83, 114, 101, 101, 104, 97, 114, 105]\n"
     ]
    }
   ],
   "source": [
    "#(d) List ordinal value of each element of a word (Hint: use ord() to get ordinal values)\n",
    "word=input(\"Enter a word: \")\n",
    "ordinals=[ord(char) for char in word]\n",
    "print(\"Ordinal values =\",ordinals)"
   ]
  }
 ],
 "metadata": {
  "kernelspec": {
   "display_name": "Python 3 (ipykernel)",
   "language": "python",
   "name": "python3"
  },
  "language_info": {
   "codemirror_mode": {
    "name": "ipython",
    "version": 3
   },
   "file_extension": ".py",
   "mimetype": "text/x-python",
   "name": "python",
   "nbconvert_exporter": "python",
   "pygments_lexer": "ipython3",
   "version": "3.11.4"
  }
 },
 "nbformat": 4,
 "nbformat_minor": 5
}

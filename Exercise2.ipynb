{
 "cells": [
  {
   "cell_type": "code",
   "execution_count": 7,
   "id": "a706d578",
   "metadata": {},
   "outputs": [
    {
     "name": "stdin",
     "output_type": "stream",
     "text": [
      "Enter a number:  3\n"
     ]
    },
    {
     "name": "stdout",
     "output_type": "stream",
     "text": [
      "3 + 33 + 333 = 369\n"
     ]
    }
   ],
   "source": [
    "#write a python program that accepts an integer {n} amd computes the value of n+nn+nnn without usin string\n",
    "n=int(input(\"Enter a number: \"))\n",
    "nn=n*10+n        \n",
    "nnn=n*100+nn     \n",
    "value=n+nn+nnn\n",
    "print(n,\"+\",nn,\"+\",nnn,\"=\",value)"
   ]
  },
  {
   "cell_type": "code",
   "execution_count": 4,
   "id": "ef4cf704",
   "metadata": {},
   "outputs": [
    {
     "name": "stdin",
     "output_type": "stream",
     "text": [
      "Enter the radius:  3\n"
     ]
    },
    {
     "name": "stdout",
     "output_type": "stream",
     "text": [
      "Area of the cicle= 28.27\n"
     ]
    }
   ],
   "source": [
    "#input the radius of a circle and compute the area\n",
    "import math\n",
    "r=float(input(\"Enter the radius: \"))\n",
    "print(\"Area of the cicle=\",round(math.pi*r*r,2))"
   ]
  },
  {
   "cell_type": "code",
   "execution_count": null,
   "id": "1c88c4a2-860c-45e2-b274-6de9715688a5",
   "metadata": {},
   "outputs": [],
   "source": []
  }
 ],
 "metadata": {
  "kernelspec": {
   "display_name": "Python 3 (ipykernel)",
   "language": "python",
   "name": "python3"
  },
  "language_info": {
   "codemirror_mode": {
    "name": "ipython",
    "version": 3
   },
   "file_extension": ".py",
   "mimetype": "text/x-python",
   "name": "python",
   "nbconvert_exporter": "python",
   "pygments_lexer": "ipython3",
   "version": "3.10.12"
  }
 },
 "nbformat": 4,
 "nbformat_minor": 5
}

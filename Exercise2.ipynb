{
 "cells": [
  {
   "cell_type": "code",
   "execution_count": 1,
   "id": "db787d13",
   "metadata": {},
   "outputs": [
    {
     "name": "stdout",
     "output_type": "stream",
     "text": [
      "Enter a number: 5\n",
      "615\n"
     ]
    }
   ],
   "source": [
    "#write a python program that accepts an integer {n} amd computes the value of n+nn+nnn\n",
    "n = int(input(\"Enter a number: \"))\n",
    "print(n + int(str(n)*2) + int(str(n)*3))"
   ]
  },
  {
   "cell_type": "code",
   "execution_count": 2,
   "id": "4e83aeb2",
   "metadata": {},
   "outputs": [
    {
     "name": "stdout",
     "output_type": "stream",
     "text": [
      "Enter radius: 6\n",
      "113.09733552923255\n"
     ]
    }
   ],
   "source": [
    "#input the radius of a circle and compute the area\n",
    "import math\n",
    "r = float(input(\"Enter radius: \"))\n",
    "print(math.pi * r * r)"
   ]
  }
 ],
 "metadata": {
  "kernelspec": {
   "display_name": "Python 3 (ipykernel)",
   "language": "python",
   "name": "python3"
  },
  "language_info": {
   "codemirror_mode": {
    "name": "ipython",
    "version": 3
   },
   "file_extension": ".py",
   "mimetype": "text/x-python",
   "name": "python",
   "nbconvert_exporter": "python",
   "pygments_lexer": "ipython3",
   "version": "3.11.4"
  }
 },
 "nbformat": 4,
 "nbformat_minor": 5
}

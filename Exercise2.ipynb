{
 "cells": [
  {
   "cell_type": "code",
   "execution_count": 1,
   "id": "a706d578",
   "metadata": {},
   "outputs": [
    {
     "name": "stdout",
     "output_type": "stream",
     "text": [
      "Enter n: 3\n",
      "Result: 369\n"
     ]
    }
   ],
   "source": [
    "#write a python program that accepts an integer {n} amd computes the value of n+nn+nnn without usin string\n",
    "n=int(input(\"Enter n: \"))\n",
    "print(\"Result:\", n + (n*10+n) + (n*100+n*10+n))"
   ]
  },
  {
   "cell_type": "code",
   "execution_count": 2,
   "id": "ef4cf704",
   "metadata": {},
   "outputs": [
    {
     "name": "stdout",
     "output_type": "stream",
     "text": [
      "r: 3\n",
      "Area= 28.27\n"
     ]
    }
   ],
   "source": [
    "#input the radius of a circle and compute the area\n",
    "import math;r=float(input(\"r: \"));print(\"Area=\",round(math.pi*r*r,2))"
   ]
  }
 ],
 "metadata": {
  "kernelspec": {
   "display_name": "Python 3 (ipykernel)",
   "language": "python",
   "name": "python3"
  },
  "language_info": {
   "codemirror_mode": {
    "name": "ipython",
    "version": 3
   },
   "file_extension": ".py",
   "mimetype": "text/x-python",
   "name": "python",
   "nbconvert_exporter": "python",
   "pygments_lexer": "ipython3",
   "version": "3.11.4"
  }
 },
 "nbformat": 4,
 "nbformat_minor": 5
}

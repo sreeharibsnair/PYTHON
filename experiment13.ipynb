{
 "cells": [
  {
   "cell_type": "code",
   "execution_count": 7,
   "id": "a069aee6",
   "metadata": {},
   "outputs": [
    {
     "name": "stdin",
     "output_type": "stream",
     "text": [
      "Enter words:  sreehari,sidhu,jobin,ihsan\n"
     ]
    },
    {
     "name": "stdout",
     "output_type": "stream",
     "text": [
      "Length of longest word:  8\n"
     ]
    }
   ],
   "source": [
    "#1. Accept a list of words and return length of longest word\n",
    "def longest(words):\n",
    "    return max(len(w) for w in words)\n",
    "words=input(\"Enter words: \").split(',')\n",
    "print(\"Length of longest word: \",longest(words))"
   ]
  },
  {
   "cell_type": "code",
   "execution_count": 8,
   "id": "9fec722f",
   "metadata": {},
   "outputs": [
    {
     "name": "stdin",
     "output_type": "stream",
     "text": [
      "Enter number of rows:  5\n"
     ]
    },
    {
     "name": "stdout",
     "output_type": "stream",
     "text": [
      "* \n",
      "* * \n",
      "* * * \n",
      "* * * * \n",
      "* * * * * \n",
      "* * * * \n",
      "* * * \n",
      "* * \n",
      "* \n"
     ]
    }
   ],
   "source": [
    "#Construct following pattern using nested loop \n",
    "#                * \n",
    "#                *  * \n",
    "#                *  *  * \n",
    "#                *  *  *  * \n",
    "#                *  *  *  *  * \n",
    "#                *  *  *  * \n",
    "#                *  *  * \n",
    "#                *  * \n",
    "#                *\n",
    "                    \n",
    "def pattern(n):\n",
    "    for i in range(1,n+1):\n",
    "        print(\"* \" * i)\n",
    "    for i in range(n-1,0,-1):\n",
    "        print(\"* \" * i)\n",
    "n=int(input(\"Enter number of rows: \"))\n",
    "pattern(n)"
   ]
  },
  {
   "cell_type": "code",
   "execution_count": 3,
   "id": "22f4f5c2-7494-4d04-963f-c093d9898db9",
   "metadata": {},
   "outputs": [
    {
     "name": "stdin",
     "output_type": "stream",
     "text": [
      "Enter a number:  5\n"
     ]
    },
    {
     "name": "stdout",
     "output_type": "stream",
     "text": [
      "Factors of 5 are: 1 5\n"
     ]
    }
   ],
   "source": [
    "#Generate all factors of a number \n",
    "def factors(n):\n",
    "    return [str(i) for i in range(1,n+1) if n%i== 0]\n",
    "n=int(input(\"Enter a number: \"))\n",
    "print(\"Factors of\",n, \"are:\", \" \".join(factors(n)))"
   ]
  },
  {
   "cell_type": "code",
   "execution_count": 11,
   "id": "15d5f185-e464-4602-8655-192768c16154",
   "metadata": {},
   "outputs": [
    {
     "name": "stdin",
     "output_type": "stream",
     "text": [
      "1.Square 2.Rectangle 3.Triangle\n",
      "Enter choice:  3\n",
      "Base:  5\n",
      "Height:  7\n"
     ]
    },
    {
     "name": "stdout",
     "output_type": "stream",
     "text": [
      "Area of triangle = 17.5\n"
     ]
    }
   ],
   "source": [
    "#Write lambda functions to find area of square, rectangle and triangle.\n",
    "square=lambda a: a*a\n",
    "rectangle=lambda l,b: l*b\n",
    "triangle=lambda b,h: 0.5*b*h\n",
    "c=int(input(\"1.Square 2.Rectangle 3.Triangle\\nEnter choice: \"))\n",
    "if c==1: print(\"Area of square =\",square(float(input(\"Side: \"))))\n",
    "elif c==2: print(\"Area of rectangle =\",rectangle(float(input(\"Length: \")),float(input(\"Breadth: \"))))\n",
    "elif c==3: print(\"Area of triangle =\",triangle(float(input(\"Base: \")),float(input(\"Height: \"))))"
   ]
  },
  {
   "cell_type": "code",
   "execution_count": null,
   "id": "b39792f0-3f51-4c6e-bf63-7a2a4b2a9f40",
   "metadata": {},
   "outputs": [],
   "source": []
  }
 ],
 "metadata": {
  "kernelspec": {
   "display_name": "Python 3 (ipykernel)",
   "language": "python",
   "name": "python3"
  },
  "language_info": {
   "codemirror_mode": {
    "name": "ipython",
    "version": 3
   },
   "file_extension": ".py",
   "mimetype": "text/x-python",
   "name": "python",
   "nbconvert_exporter": "python",
   "pygments_lexer": "ipython3",
   "version": "3.10.12"
  }
 },
 "nbformat": 4,
 "nbformat_minor": 5
}
